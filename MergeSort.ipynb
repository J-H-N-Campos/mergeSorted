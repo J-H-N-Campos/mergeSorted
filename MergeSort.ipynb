{
  "nbformat": 4,
  "nbformat_minor": 0,
  "metadata": {
    "colab": {
      "name": "MergeSort.ipynb",
      "provenance": [],
      "collapsed_sections": []
    },
    "kernelspec": {
      "name": "python3",
      "display_name": "Python 3"
    },
    "language_info": {
      "name": "python"
    }
  },
  "cells": [
    {
      "cell_type": "code",
      "metadata": {
        "id": "1D-smv5mQm4W"
      },
      "source": [
        "def mergeSort(array):\n",
        "\n",
        "    #Condição se o retorno do array é maior que 1\n",
        "    if len(array) > 1:\n",
        "\n",
        "        #Ele entra na váriavel chamada meio para retornar um array divido\n",
        "        meio = len(array)//2\n",
        "        #também é valido: meio = int(len(array)/2)\n",
        "\n",
        "        #arrays quebrados\n",
        "        arrayDaEsquerda = array[:meio]\n",
        "        arrayDaDireita = array[meio:]\n",
        "\n",
        "        #Invoca os arrays da entrada em duas metades e faz merge\n",
        "        mergeSort(arrayDaEsquerda)\n",
        "        mergeSort(arrayDaDireita)\n",
        "\n",
        "        #Variáveis para por no while e percorrer\n",
        "        i = 0\n",
        "        j = 0\n",
        "        k = 0\n",
        "\n",
        "        #Se o retorno do array da esquerda e da direita for menor que 0 ele entra\n",
        "        while i < len(arrayDaEsquerda) and j < len(arrayDaDireita):\n",
        "\n",
        "            #Percorre os dados dentro deles e faz uma contagem\n",
        "            #Se o array da esquerda for menor que o da direita ele entra em uma\n",
        "            #váriavel chamada array para por os dados em uma outra contagem\n",
        "            if arrayDaEsquerda[i] < arrayDaDireita[j]:\n",
        "                array[k]=arrayDaEsquerda[i]\n",
        "                i += 1\n",
        "            else:\n",
        "              #Caso contrário ele entra no array direito com as contagens\n",
        "                array[k]=arrayDaDireita[j]\n",
        "                j += 1\n",
        "            k += 1\n",
        "        #Se o retorno do array da esquerda  que 0 ele entra\n",
        "        while i < len(arrayDaEsquerda):\n",
        "            #Percorre os dados dentro deles e faz uma contagem\n",
        "            array[k]=arrayDaEsquerda[i]\n",
        "            i += 1\n",
        "            k += 1\n",
        "        #Se o retorno do array da direita for menor que 0 ele entra\n",
        "        while j < len(arrayDaDireita):\n",
        "            #Percorre os dados dentro deles e faz uma contagem\n",
        "            array[k]=arrayDaDireita[j]\n",
        "            j += 1\n",
        "            k += 1\n",
        "\n",
        "    #Retorna o resultado do array\n",
        "    return array"
      ],
      "execution_count": null,
      "outputs": []
    }
  ]
}